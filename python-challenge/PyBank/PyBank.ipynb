{
 "cells": [
  {
   "cell_type": "code",
   "execution_count": 4,
   "id": "0dbbd9d4",
   "metadata": {},
   "outputs": [],
   "source": [
    "import os\n",
    "import csv\n",
    "\n",
    "#create pathway for csv file\n",
    "csvpath= os.path.join( \"Resources\", \"budget_data.csv\")\n",
    "\n",
    "#access csvpath\n",
    "with open(csvpath) as csv_file:\n",
    "    reader= csv.reader(csv_file)\n",
    "    csv_header= next(reader)\n",
    "    \n",
    "    #Initialize Variables\n",
    "    months = 0\n",
    "    total = 0\n",
    "    GreatestIncrease= 0\n",
    "    GreatestDecrease= 0\n",
    "    \n",
    "    #create loop\n",
    "    for row in reader:\n",
    "        months +=1\n",
    "        total = int(row[1]) + total"
   ]
  },
  {
   "cell_type": "code",
   "execution_count": 5,
   "id": "fd033215",
   "metadata": {},
   "outputs": [
    {
     "data": {
      "text/plain": [
       "86"
      ]
     },
     "execution_count": 5,
     "metadata": {},
     "output_type": "execute_result"
    }
   ],
   "source": [
    "months"
   ]
  },
  {
   "cell_type": "code",
   "execution_count": 6,
   "id": "ecc9c3f4",
   "metadata": {},
   "outputs": [
    {
     "data": {
      "text/plain": [
       "22564198"
      ]
     },
     "execution_count": 6,
     "metadata": {},
     "output_type": "execute_result"
    }
   ],
   "source": [
    "total"
   ]
  },
  {
   "cell_type": "code",
   "execution_count": null,
   "id": "6dc57f15",
   "metadata": {},
   "outputs": [],
   "source": []
  },
  {
   "cell_type": "code",
   "execution_count": null,
   "id": "0289c5fc",
   "metadata": {},
   "outputs": [],
   "source": []
  }
 ],
 "metadata": {
  "kernelspec": {
   "display_name": "Python 3 (ipykernel)",
   "language": "python",
   "name": "python3"
  },
  "language_info": {
   "codemirror_mode": {
    "name": "ipython",
    "version": 3
   },
   "file_extension": ".py",
   "mimetype": "text/x-python",
   "name": "python",
   "nbconvert_exporter": "python",
   "pygments_lexer": "ipython3",
   "version": "3.9.12"
  }
 },
 "nbformat": 4,
 "nbformat_minor": 5
}
